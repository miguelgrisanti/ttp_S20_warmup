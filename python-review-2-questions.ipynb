{
 "cells": [
  {
   "cell_type": "code",
   "execution_count": null,
   "metadata": {},
   "outputs": [],
   "source": [
    "''' #1\n",
    "Write a function called \"addProperty\". \n",
    "Given an dict, and a key, \"addProperty\" sets a new property on the \n",
    "given dictionary with a value of True.\n",
    "\n",
    "dictionary = {}\n",
    "addProperty(dictionary, 'my_property')\n",
    "\n",
    "print(my_dict['my_property']) # --> True\n",
    "'''"
   ]
  },
  {
   "cell_type": "code",
   "execution_count": 3,
   "metadata": {},
   "outputs": [
    {
     "ename": "SyntaxError",
     "evalue": "invalid syntax (<ipython-input-3-7c2b97569677>, line 2)",
     "output_type": "error",
     "traceback": [
      "\u001b[0;36m  File \u001b[0;32m\"<ipython-input-3-7c2b97569677>\"\u001b[0;36m, line \u001b[0;32m2\u001b[0m\n\u001b[0;31m    return dictionary[key] = True\u001b[0m\n\u001b[0m                           ^\u001b[0m\n\u001b[0;31mSyntaxError\u001b[0m\u001b[0;31m:\u001b[0m invalid syntax\n"
     ]
    }
   ],
   "source": [
    "def addProperty(dictionary, my_property):\n",
    "    return dictionary[key]\n",
    "\n",
    "\n"
   ]
  },
  {
   "cell_type": "code",
   "execution_count": null,
   "metadata": {},
   "outputs": [],
   "source": [
    "''' #2\n",
    "Write a function called \"removeProperty\". Given an object and a key, \"removeProperty\" removes the given key from the given object.\n",
    "\n",
    "dictionary = {'name':'Sam', 'age': 20}\n",
    "removeProperty(dictionary, 'name')\n",
    "\n",
    "print(dictionary) # --> {'age': 20}\n",
    "print(dictionary.get('name')) # --> None\n",
    "'''"
   ]
  },
  {
   "cell_type": "code",
   "execution_count": 24,
   "metadata": {},
   "outputs": [
    {
     "ename": "SyntaxError",
     "evalue": "invalid syntax (<ipython-input-24-eff78c55d7ba>, line 1)",
     "output_type": "error",
     "traceback": [
      "\u001b[0;36m  File \u001b[0;32m\"<ipython-input-24-eff78c55d7ba>\"\u001b[0;36m, line \u001b[0;32m1\u001b[0m\n\u001b[0;31m    def removeProperty(dict, 'key'):\u001b[0m\n\u001b[0m                                 ^\u001b[0m\n\u001b[0;31mSyntaxError\u001b[0m\u001b[0;31m:\u001b[0m invalid syntax\n"
     ]
    }
   ],
   "source": [
    "def removeProperty(dict, 'key'):\n",
    "    if 'key' in dict:\n",
    "    return dict.get(key)\n",
    "\n",
    "dictionary = {'name':'Sam', 'age': 20}\n",
    "removeProperty(dictionary, 'name')\n",
    "\n",
    "print(dictionary) # --> {'age': 20}\n",
    "print(dictionary.get('name'))"
   ]
  },
  {
   "cell_type": "code",
   "execution_count": null,
   "metadata": {},
   "outputs": [],
   "source": [
    "''' #3\n",
    "Write a function called \"getSquaredElementsAtProperty\".\n",
    "\n",
    "Given a dictionary and a key, \"getSquaredElementsAtProperty\" \n",
    "returns a list containing all the squared elements of the list \n",
    "located at the given key.\n",
    "\n",
    "Notes:\n",
    "\n",
    "If the list is empty, it should return an empty list.\n",
    "If the property at the given key is not a list, it should return an empty list.\n",
    "If there is no property at the key, it should return an empty list.\n",
    "obj = {'key': [2, 1, 5]}\n",
    "\n",
    "output = getSquaredElementsAtProperty(obj, 'key')\n",
    "print(output) # --> [4, 1, 25]\n",
    "'''"
   ]
  },
  {
   "cell_type": "code",
   "execution_count": null,
   "metadata": {},
   "outputs": [],
   "source": [
    "def getSquaredElementsAtProperty (dict, key):\n",
    "    return x = [i **2 for i in x]:\n",
    "    if x =! [] and\n",
    "    "
   ]
  },
  {
   "cell_type": "code",
   "execution_count": null,
   "metadata": {},
   "outputs": [],
   "source": [
    "''' #4\n",
    "Write a function called \"getOddElementsAtProperty\".\n",
    "\n",
    "Given a dictionary and a key, \"getOddElementsAtProperty\" \n",
    "returns a list containing all the odd elements of the list \n",
    "located at the given key.\n",
    "\n",
    "Notes:\n",
    "\n",
    "If the list is empty, it should return an empty list.\n",
    "If it contains no odd elements, it should return an empty list.\n",
    "If the property at the given key is not a list, \n",
    "it should return an empty list.\n",
    "If there is no property at the key, it should return an empty list.\n",
    "obj = {'key': [1, 2, 3, 4, 5]}\n",
    "\n",
    "output = getOddElementsAtProperty(obj, 'key')\n",
    "print(output) # --> [1, 3, 5]\n",
    "'''"
   ]
  },
  {
   "cell_type": "code",
   "execution_count": null,
   "metadata": {},
   "outputs": [],
   "source": []
  },
  {
   "cell_type": "code",
   "execution_count": null,
   "metadata": {},
   "outputs": [],
   "source": [
    "''' #5\n",
    "Write a function called \"average\".\n",
    "\n",
    "Given two numbers, \"average\" returns their average.\n",
    "\n",
    "output = average(4, 6)\n",
    "print(output) # --> 5\n",
    "'''"
   ]
  },
  {
   "cell_type": "code",
   "execution_count": null,
   "metadata": {},
   "outputs": [],
   "source": []
  },
  {
   "cell_type": "code",
   "execution_count": null,
   "metadata": {},
   "outputs": [],
   "source": [
    "''' #6\n",
    "Write a function called \"computeAreaOfATriangle\".\n",
    "\n",
    "Given the base and height of a triangle, \"computeAreaOfATriangle\" returns its area.\n",
    "\n",
    "output = computeAreaOfATriangle(4, 6)\n",
    "print(output) # --> 12\n",
    "'''"
   ]
  },
  {
   "cell_type": "code",
   "execution_count": null,
   "metadata": {},
   "outputs": [],
   "source": []
  },
  {
   "cell_type": "code",
   "execution_count": null,
   "metadata": {},
   "outputs": [],
   "source": [
    "''' #7\n",
    "Write a function called \"list_average\".\n",
    "\n",
    "Given a list of numbers, \"list_average\" returns their average.\n",
    "\n",
    "output = list_average([4, 6,8,10,12])\n",
    "print(output) # --> 8\n",
    "'''"
   ]
  },
  {
   "cell_type": "code",
   "execution_count": 23,
   "metadata": {},
   "outputs": [
    {
     "name": "stdout",
     "output_type": "stream",
     "text": [
      "8.0\n"
     ]
    }
   ],
   "source": [
    "x = []\n",
    "def list_average(lst):\n",
    "    return sum(lst) / len(lst)\n",
    "\n",
    "output = list_average([4, 6,8,10,12])\n",
    "print(output)"
   ]
  },
  {
   "cell_type": "code",
   "execution_count": null,
   "metadata": {},
   "outputs": [],
   "source": [
    "''' #8\n",
    "Write a function called \"multiplyBetween\".\n",
    "\n",
    "Given 2 integers, \"multiplyBetween\" returns the product \n",
    "between the two given integers, beginning at num1, and excluding num2.\n",
    "\n",
    "Notes:\n",
    "\n",
    "The product between 1 and 4 is 1 * 2 * 3 = 6.\n",
    "\n",
    "If num2 is not greater than num1, it should return 0.\n",
    "output = multiplyBetween(2, 5)\n",
    "print(output) # --> 24\n",
    "'''\n"
   ]
  },
  {
   "cell_type": "code",
   "execution_count": null,
   "metadata": {},
   "outputs": [],
   "source": []
  },
  {
   "cell_type": "code",
   "execution_count": null,
   "metadata": {},
   "outputs": [],
   "source": [
    "''' #9\n",
    "Write a function called \"sumBetween\".\n",
    "\n",
    "Given 2 integers, \"sumBetween\" returns the sum \n",
    "between the two given integers, beginning at num1, and excluding num2.\n",
    "\n",
    "Notes:\n",
    "\n",
    "The sum between 1 and 4 is 1 + 2 + 3 = 6.\n",
    "If num2 is not greater than num1, it should return 0.\n",
    "\n",
    "output = sumBetween(2, 5)\n",
    "print(output) # --> 9\n",
    "'''"
   ]
  },
  {
   "cell_type": "code",
   "execution_count": null,
   "metadata": {},
   "outputs": [],
   "source": []
  }
 ],
 "metadata": {
  "kernelspec": {
   "display_name": "Python 3",
   "language": "python",
   "name": "python3"
  },
  "language_info": {
   "codemirror_mode": {
    "name": "ipython",
    "version": 3
   },
   "file_extension": ".py",
   "mimetype": "text/x-python",
   "name": "python",
   "nbconvert_exporter": "python",
   "pygments_lexer": "ipython3",
   "version": "3.7.3"
  }
 },
 "nbformat": 4,
 "nbformat_minor": 2
}
